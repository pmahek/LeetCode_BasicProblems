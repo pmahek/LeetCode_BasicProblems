{
 "cells": [
  {
   "cell_type": "markdown",
   "id": "d36dec51-ad7d-4114-8c3c-2b670da9d729",
   "metadata": {},
   "source": [
    "1. Two Sum\n",
    "\n",
    "Problem: Given an array of integers nums and an integer target, find indices of two numbers such that they add up to target."
   ]
  },
  {
   "cell_type": "code",
   "execution_count": 9,
   "id": "0e0652a8-b5fd-4287-a392-e2f09576b8ab",
   "metadata": {},
   "outputs": [],
   "source": [
    "class Solutions:\n",
    "    def twosums(self,num,target):\n",
    "        for i in range(len(num)):\n",
    "            for j in range(i+1,len(num)):\n",
    "                if num[i]+num[j]==target:\n",
    "                   print(i,j)\n",
    "                    \n",
    "               \n"
   ]
  },
  {
   "cell_type": "code",
   "execution_count": 10,
   "id": "6bbe2d5d-8d9e-45d5-8c99-7c766c82a45f",
   "metadata": {},
   "outputs": [
    {
     "name": "stdout",
     "output_type": "stream",
     "text": [
      "0 1\n"
     ]
    }
   ],
   "source": [
    "n=[2,7,12,34,44]\n",
    "tar=9\n",
    "result=Solutions().twosums(n,tar)"
   ]
  },
  {
   "cell_type": "markdown",
   "id": "54ff3b91-8a89-45b5-a54e-ffe9ca985e03",
   "metadata": {},
   "source": [
    "2. Reverse String\n",
    "\n",
    "Problem: Reverse the given list of characters s in-place."
   ]
  },
  {
   "cell_type": "code",
   "execution_count": 11,
   "id": "2385dbf1-5e70-4c8a-bbe8-18c0b4046c22",
   "metadata": {},
   "outputs": [],
   "source": [
    "class Solutions:\n",
    "    def reverseString(self,s):\n",
    "        left,right=(0,len(s)-1)\n",
    "        while left<right:\n",
    "            s[left],s[right]=s[right],s[left]\n",
    "            left+=1\n",
    "            right-=1\n",
    "        return s\n",
    "\n"
   ]
  },
  {
   "cell_type": "code",
   "execution_count": 16,
   "id": "1be63cb1-5ca7-462f-b26a-fce4e195966b",
   "metadata": {},
   "outputs": [
    {
     "name": "stdout",
     "output_type": "stream",
     "text": [
      "['o', 'l', 'l', 'e', 'h']\n"
     ]
    }
   ],
   "source": [
    "stri=[\"h\",\"e\",\"l\",\"l\",\"o\"]\n",
    "reverseString=Solutions().reverseString(stri)\n",
    "print(reverseString)"
   ]
  },
  {
   "cell_type": "markdown",
   "id": "ad9771f4-a690-4c43-a00d-a844e719cbf6",
   "metadata": {},
   "source": [
    "3. Contains Duplicate\n",
    "\n",
    "Problem: Check if a list of integers contains any duplicates. Return True if any value appears at least twice, else False."
   ]
  },
  {
   "cell_type": "code",
   "execution_count": 34,
   "id": "67ba93d0-cf05-4f20-af8d-428abc0ae8b4",
   "metadata": {},
   "outputs": [],
   "source": [
    "class Solution:\n",
    "    def containsDuplicate(self, nums):\n",
    "        for i in range(len(nums)):\n",
    "            for j in range(i+1, len(nums)):\n",
    "                if nums[i] == nums[j]:\n",
    "                    return True\n",
    "        return False\n"
   ]
  },
  {
   "cell_type": "code",
   "execution_count": 39,
   "id": "6f309453-339a-46f9-a55e-6b1e13489f25",
   "metadata": {},
   "outputs": [
    {
     "name": "stdout",
     "output_type": "stream",
     "text": [
      "False\n"
     ]
    }
   ],
   "source": [
    "n=[2,7,12,34,44]\n",
    "result=Solution().containsDuplicate(n)\n",
    "print(result)"
   ]
  },
  {
   "cell_type": "markdown",
   "id": "b32dc8d2-6458-4fb2-b512-e29220f61d6e",
   "metadata": {},
   "source": [
    "4. Merge Sorted Array\n",
    "\n",
    "Problem: Merge two sorted integer arrays nums1 and nums2 into nums1 as one sorted array."
   ]
  },
  {
   "cell_type": "code",
   "execution_count": null,
   "id": "5cd546c1-b2b1-4375-ba8a-20169ebe141e",
   "metadata": {},
   "outputs": [],
   "source": []
  }
 ],
 "metadata": {
  "kernelspec": {
   "display_name": "Python (venv)",
   "language": "python",
   "name": "venv"
  },
  "language_info": {
   "codemirror_mode": {
    "name": "ipython",
    "version": 3
   },
   "file_extension": ".py",
   "mimetype": "text/x-python",
   "name": "python",
   "nbconvert_exporter": "python",
   "pygments_lexer": "ipython3",
   "version": "3.12.3"
  }
 },
 "nbformat": 4,
 "nbformat_minor": 5
}
